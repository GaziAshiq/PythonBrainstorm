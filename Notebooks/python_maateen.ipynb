{
 "cells": [
  {
   "cell_type": "code",
   "execution_count": 1,
   "metadata": {
    "collapsed": true,
    "ExecuteTime": {
     "end_time": "2023-07-30T06:22:15.624062100Z",
     "start_time": "2023-07-30T06:22:15.608442Z"
    }
   },
   "outputs": [
    {
     "name": "stdout",
     "output_type": "stream",
     "text": [
      "My name is Gazi Ashiq, I'm gonna be a Pythonist\n"
     ]
    }
   ],
   "source": [
    "name = 'Gazi Ashiq'\n",
    "print(f\"My name is {name}, I'm gonna be a Pythonist\")"
   ]
  },
  {
   "cell_type": "markdown",
   "source": [
    "KeyWords\n",
    "--------\n",
    "False\tNone\tTrue\n",
    "and\texec\tnot\n",
    "as\tfinally\tor\n",
    "assert\tfor\tpass\n",
    "break\tfrom\tprint\n",
    "class\tglobal\traise\n",
    "continue\tif\treturn\n",
    "def\timport\ttry\n",
    "del\tin\twhile\n",
    "elif\tis\twith\n",
    "else\tlambda\tyield\n",
    "except"
   ],
   "metadata": {
    "collapsed": false
   }
  },
  {
   "cell_type": "code",
   "execution_count": 3,
   "outputs": [
    {
     "name": "stdout",
     "output_type": "stream",
     "text": [
      "<class 'int'>\n",
      "<class 'float'>\n",
      "<class 'str'>\n",
      "<class 'bool'>\n"
     ]
    }
   ],
   "source": [
    "a=5\n",
    "print(type(a))\n",
    "a=34.656\n",
    "print(type(a))\n",
    "a='home'\n",
    "print(type(a))\n",
    "a = True\n",
    "print(type(a))"
   ],
   "metadata": {
    "collapsed": false,
    "ExecuteTime": {
     "end_time": "2023-07-30T06:24:22.600231900Z",
     "start_time": "2023-07-30T06:24:22.584607700Z"
    }
   }
  },
  {
   "cell_type": "markdown",
   "source": [
    "Type casting\n",
    "------------\n",
    "ফাংশন\tবর্ননা\n",
    "int()\tইন্টিজারে কাস্ট করে\n",
    "float()\tফ্লোটে কাস্ট করে\n",
    "str()\tস্ট্রিংয়ে কাস্ট করে\n",
    "tuple()\tটাপলে কাস্ট করে\n",
    "list()\tলিস্টে কাস্ট করে\n",
    "set()\tসেটে কাস্ট করে\n",
    "dict()\tডিকশনারিতে কাস্ট করে"
   ],
   "metadata": {
    "collapsed": false
   }
  },
  {
   "cell_type": "code",
   "execution_count": 5,
   "outputs": [
    {
     "name": "stdout",
     "output_type": "stream",
     "text": [
      "<class 'int'>\n",
      "<class 'str'>\n"
     ]
    }
   ],
   "source": [
    "a=5\n",
    "print(type(a))\n",
    "b = str(a)\n",
    "print(type(b))"
   ],
   "metadata": {
    "collapsed": false,
    "ExecuteTime": {
     "end_time": "2023-07-30T06:27:14.220536200Z",
     "start_time": "2023-07-30T06:27:14.215536500Z"
    }
   }
  },
  {
   "cell_type": "code",
   "execution_count": 6,
   "outputs": [],
   "source": [
    "a = input()\n",
    "print(a)\n",
    "a = int(input())\n",
    "print(a)"
   ],
   "metadata": {
    "collapsed": false,
    "ExecuteTime": {
     "end_time": "2023-07-30T07:33:13.991874400Z",
     "start_time": "2023-07-30T07:33:11.223697300Z"
    }
   }
  },
  {
   "cell_type": "markdown",
   "source": [],
   "metadata": {
    "collapsed": false
   }
  },
  {
   "cell_type": "code",
   "execution_count": 9,
   "outputs": [
    {
     "name": "stdout",
     "output_type": "stream",
     "text": [
      "a: 1, b: 4\n"
     ]
    }
   ],
   "source": [
    "a, b = input().split()\n",
    "print(f'a: {a}, b: {b}')"
   ],
   "metadata": {
    "collapsed": false,
    "ExecuteTime": {
     "end_time": "2023-07-30T07:36:02.263923400Z",
     "start_time": "2023-07-30T07:35:56.111972500Z"
    }
   }
  },
  {
   "cell_type": "markdown",
   "source": [
    "Operators..\n",
    "-----------\n",
    "অপারেটর\tবর্ননা\n",
    "+\tঅ্যাডিশন অপারেটর। দুই পাশের অপারেন্ড দুইটাকে যোগ করে।\n",
    "-\tসাবট্রাকশন অপারেটর। বাম পাশের অপারেন্ড থেকে ডান পাশের অপারেন্ড বিয়োগ করে।\n",
    "*\tমাল্টিপ্লিকেশন অপারেটর। দুইটা অপারেন্ডের একটাকে অন্যটা দিয়ে গুণ করে।\n",
    "/\tডিভিশন অপারেটর। বাম পাশের অপারেন্ডকে ডান পাশের অপারেন্ড দিয়ে ভাগ করে।\n",
    "%\tমডুলাস অপারেটর। বাম পাশের অপারেন্ডকে ডান পাশের অপারেন্ড দিয়ে ভাগ করে ভাগশেষ রিটার্ন করে।\n",
    "**\tএক্সপোনেন্ট অপারেটর। বাম পাশের অপারেন্ড হয় বেস আর ডান পাশের অপারেটর হয় পাওয়ার।\n",
    "//\tফ্লোর ডিভিশন অপারেটর। সাধারণত দশমিকের পরের সংখ্যা স্কিপ করে যায়।"
   ],
   "metadata": {
    "collapsed": false
   }
  },
  {
   "cell_type": "markdown",
   "source": [
    "Comparison operators\n",
    "--------------------\n",
    "অপারেটর\tবর্ণনা\n",
    "==\tযদি দুই পাশের অপারেন্ড দুইটি সমান হয় তবে শর্তটা সত্যি হয়।\n",
    "!=\tযদি দুই পাশের অপারেন্ড দুইটি সমান না হয় তবে শর্তটা সত্যি হয়।\n",
    ">\tযদি ডান পাশের অপারেন্ডের চেয়ে বাম পাশের অপারেন্ড বড় হয় তবে শর্তটা সত্যি হয়।\n",
    "<\tযদি ডান পাশের অপারেন্ডের চেয়ে বাম পাশের অপারেন্ড ছোট হয় তবে শর্তটা সত্যি হয়।\n",
    ">=\tযদি ডান পাশের অপারেন্ডের চেয়ে বাম পাশের অপারেন্ড বড় বা সমান হয় তবে শর্তটা সত্যি হয়।\n",
    "<=\tযদি ডান পাশের অপারেন্ডের চেয়ে বাম পাশের অপারেন্ড ছোট বা সমান হয় তবে শর্তটা সত্যি হয়।"
   ],
   "metadata": {
    "collapsed": false
   }
  },
  {
   "cell_type": "markdown",
   "source": [
    "Assignment Operators\n",
    "--------------------\n",
    "অপারেটর\tবর্ণনা\n",
    "=\tডান পাশের অপারেন্ড বাম পাশের অপারেন্ডে অ্যাসাইন করে।\n",
    "+=\tদুই পাশের অপারেন্ড যোগ করে যোগফল বাম পাশের অপারেন্ডে অ্যাসাইন করে।\n",
    "-=\tবাম পাশের অপারেন্ড থেকে ডান পাশের অপারেন্ড বিয়োগ করে বিয়োগফল বাম পাশের অপারেন্ডে অ্যাসাইন করে।\n",
    "*=\tদুই পাশের অপারেন্ডের একটাকে অন্যটা দিয়ে গুণ করে গুণফল বাম পাশের অপারেন্ডে অ্যাসাইন করে।\n",
    "/=\tবাম পাশের অপারেন্ডকে ডান পাশের অপারেন্ড দ্বারা ভাগ করে ভাগফল বাম পাশের অপারেন্ডে অ্যাসাইন করে।"
   ],
   "metadata": {
    "collapsed": false
   }
  },
  {
   "cell_type": "markdown",
   "source": [
    "Logical Operators\n",
    "-----------------"
   ],
   "metadata": {
    "collapsed": false
   }
  }
 ],
 "metadata": {
  "kernelspec": {
   "display_name": "Python 3",
   "language": "python",
   "name": "python3"
  },
  "language_info": {
   "codemirror_mode": {
    "name": "ipython",
    "version": 2
   },
   "file_extension": ".py",
   "mimetype": "text/x-python",
   "name": "python",
   "nbconvert_exporter": "python",
   "pygments_lexer": "ipython2",
   "version": "2.7.6"
  }
 },
 "nbformat": 4,
 "nbformat_minor": 0
}
