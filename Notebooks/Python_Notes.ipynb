{
 "cells": [
  {
   "cell_type": "code",
   "execution_count": null,
   "metadata": {},
   "outputs": [],
   "source": [
    "# Single line comments\n",
    "\n",
    "'''\n",
    "Multi-line comments\n",
    "'''\n",
    "\n",
    "\"\"\"\n",
    "Python is a dynamically typed language\n",
    "Python is an interpreted language\n",
    "Python is an object-oriented language\n",
    "Python is a high-level language\n",
    "Python is a general-purpose language\n",
    "Python is a scripting language\n",
    "Python is a cross-platform language\n",
    "Python is case-sensitive\n",
    "Python is whitespace sensitive\n",
    "Python is indentation sensitive\n",
    "\"\"\"\n"
   ]
  },
  {
   "cell_type": "markdown",
   "metadata": {},
   "source": [
    "Primitive Datatypes and Operators"
   ]
  },
  {
   "cell_type": "code",
   "execution_count": null,
   "metadata": {},
   "outputs": [],
   "source": [
    "# Math\n",
    "print(3 + 5)\n",
    "print(3 - 5)\n",
    "print(3 * 5)\n",
    "print(3 / 5)\n",
    "print()\n",
    "\n",
    "# Variables\n",
    "x = 5\n",
    "print(x)\n",
    "x = 6\n",
    "print(x)\n",
    "x = \"Hello\"\n",
    "print(x)\n",
    "x = True\n",
    "print(x)\n",
    "x = 5.5\n",
    "print(x)\n"
   ]
  },
  {
   "cell_type": "code",
   "execution_count": null,
   "metadata": {},
   "outputs": [],
   "source": [
    "# integer division truncates the decimal\n",
    "print(5 // 3)\n",
    "print()\n",
    "print(5.0 // 3.0)\n",
    "print(-5 // 3)\n",
    "print(-5.0 // 3.0)\n",
    "print(5 // -3)\n"
   ]
  },
  {
   "cell_type": "code",
   "execution_count": null,
   "metadata": {},
   "outputs": [],
   "source": [
    "# Division is always float division\n",
    "print(50.0 / 3)\n",
    "print(50 / 3.0)\n",
    "print(50.0 / 3.0)\n",
    "print(50 / 3)\n"
   ]
  },
  {
   "cell_type": "code",
   "execution_count": null,
   "metadata": {},
   "outputs": [],
   "source": [
    "# Division by zero is always an error\n",
    "print(3 / 0)\n"
   ]
  },
  {
   "cell_type": "code",
   "execution_count": null,
   "metadata": {},
   "outputs": [],
   "source": [
    "# Modulo operator\n",
    "print(7 % 3)\n",
    "print()\n",
    "print(7.0 % 3.0)\n",
    "print(-7 % 3)\n",
    "print(7 % -3)\n",
    "print(-7 % -3)\n"
   ]
  },
  {
   "cell_type": "code",
   "execution_count": null,
   "metadata": {},
   "outputs": [],
   "source": [
    "# Exponentiation operator\n",
    "print(3 ** 2)\n",
    "print()\n",
    "print(3.0 ** 2.0)\n",
    "print(-3 ** 2)\n",
    "print(3 ** -2)\n",
    "print(-3 ** -2)"
   ]
  },
  {
   "cell_type": "code",
   "execution_count": null,
   "metadata": {},
   "outputs": [],
   "source": [
    "# Enforce precedence with parentheses\n",
    "print(3 + 5 * 2)\n",
    "print((3 + 5) * 2)\n"
   ]
  },
  {
   "cell_type": "code",
   "execution_count": null,
   "metadata": {},
   "outputs": [],
   "source": [
    "# Boolean values\n",
    "print(True)\n",
    "print(False)\n",
    "print()\n",
    "# Negation with not\n",
    "print(not True)\n",
    "print(not False)\n",
    "print()\n",
    "# Boolean Operators\n",
    "print(True and False)\n",
    "print(True and True)\n",
    "print(False and False)\n"
   ]
  },
  {
   "cell_type": "code",
   "execution_count": null,
   "metadata": {},
   "outputs": [],
   "source": [
    "# Don't mix up BOOL(ints) with Bitwise Operators (bitwise operators are rarely used)\n",
    "print(0 and 2)\n",
    "print(-3 or 0)\n",
    "print(0 == False)\n",
    "print(2 == True)\n",
    "print(1 == True)\n",
    "print(-5 != False != True)"
   ]
  },
  {
   "cell_type": "code",
   "execution_count": null,
   "metadata": {},
   "outputs": [],
   "source": [
    "# Equlity and inequlity and comparison operators\n",
    "print(3 == 3)\n",
    "print(3 == 5)\n",
    "print()\n",
    "print(4 != 5)\n",
    "print(5 != 5)\n",
    "print()\n",
    "print(3 < 5)\n",
    "print(3 < 3)\n",
    "print(3 <= 3)\n",
    "print()\n",
    "print(3 > 5)\n",
    "print(3 > 3)\n",
    "print(3 >= 3)\n",
    "print()\n",
    "print(3 == 3.0)\n",
    "print(3 == '3')\n",
    "print(3 == [3])"
   ]
  },
  {
   "cell_type": "code",
   "execution_count": null,
   "metadata": {},
   "outputs": [],
   "source": [
    "# comparison can be chained\n",
    "print(2 < 3 < 4)\n",
    "print(2 < 3 and 3 < 4)"
   ]
  },
  {
   "cell_type": "code",
   "execution_count": null,
   "metadata": {},
   "outputs": [],
   "source": [
    "# is and is not operators\n",
    "print(True is True)\n",
    "print(True is False)\n",
    "print(True is not False)\n",
    "print()\n",
    "\n",
    "a = [1, 2, 3]\n",
    "b = a\n",
    "print(b is a)\n",
    "print(b == a)\n",
    "print()\n",
    "\n",
    "b = [1, 2, 3]\n",
    "print(b is a)\n",
    "print(b == a)\n"
   ]
  },
  {
   "cell_type": "code",
   "execution_count": null,
   "metadata": {},
   "outputs": [],
   "source": [
    "# format() function\n",
    "print(\"Hello {0} {1}\".format(\"World\", \"Again\"))\n",
    "print(\"{name} is {age} years old\".format(name=\"Bob\", age=30))"
   ]
  },
  {
   "cell_type": "code",
   "execution_count": null,
   "metadata": {},
   "outputs": [],
   "source": [
    "# None is an object\n",
    "print(None)"
   ]
  },
  {
   "cell_type": "markdown",
   "metadata": {},
   "source": [
    "Variables.."
   ]
  }
 ],
 "metadata": {
  "kernelspec": {
   "display_name": "Python 3",
   "language": "python",
   "name": "python3"
  },
  "language_info": {
   "codemirror_mode": {
    "name": "ipython",
    "version": 3
   },
   "file_extension": ".py",
   "mimetype": "text/x-python",
   "name": "python",
   "nbconvert_exporter": "python",
   "pygments_lexer": "ipython3",
   "version": "3.11.5"
  },
  "orig_nbformat": 4
 },
 "nbformat": 4,
 "nbformat_minor": 2
}
