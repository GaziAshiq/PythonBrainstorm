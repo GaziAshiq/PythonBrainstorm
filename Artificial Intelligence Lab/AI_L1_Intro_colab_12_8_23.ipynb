{
  "cells": [
    {
      "cell_type": "code",
      "execution_count": 4,
      "metadata": {
        "colab": {
          "base_uri": "https://localhost:8080/"
        },
        "id": "fGhRMxAev97h",
        "outputId": "1d760bb4-c714-44cc-dc96-c1050aa0114d"
      },
      "outputs": [
        {
          "name": "stdout",
          "output_type": "stream",
          "text": [
            "Ashiq\n"
          ]
        }
      ],
      "source": [
        "print(\"Ashiq\")"
      ]
    },
    {
      "cell_type": "code",
      "execution_count": 5,
      "metadata": {
        "colab": {
          "base_uri": "https://localhost:8080/"
        },
        "id": "V1FmhRcHwKPq",
        "outputId": "30e283a7-040d-4e3d-d7be-8fdee01a71a2"
      },
      "outputs": [
        {
          "data": {
            "text/plain": [
              "9"
            ]
          },
          "execution_count": 5,
          "metadata": {},
          "output_type": "execute_result"
        }
      ],
      "source": [
        "3+6"
      ]
    },
    {
      "cell_type": "code",
      "execution_count": 6,
      "metadata": {
        "colab": {
          "base_uri": "https://localhost:8080/"
        },
        "id": "h8cmNQLR0HBV",
        "outputId": "464f28dc-238a-4272-eed8-21a0a522a3c5"
      },
      "outputs": [
        {
          "name": "stdout",
          "output_type": "stream",
          "text": [
            "'A' is getter then 'B'\n"
          ]
        }
      ],
      "source": [
        "# @title\n",
        "a, b = 32, 5\n",
        "if (a > b):\n",
        "  print(\"'A' is getter then 'B'\")\n",
        "else:\n",
        "  print(\"'B' is getter then 'A'\")"
      ]
    },
    {
      "cell_type": "code",
      "execution_count": 8,
      "metadata": {
        "colab": {
          "base_uri": "https://localhost:8080/"
        },
        "id": "XsAxHJX80aTj",
        "outputId": "fc14b236-3ca2-4c95-89ea-4af8201c974d"
      },
      "outputs": [
        {
          "name": "stdout",
          "output_type": "stream",
          "text": [
            "Even\n"
          ]
        }
      ],
      "source": [
        "a = int(input(\"Enter integer number: \"))\n",
        "if a%2==0:\n",
        "  print(\"Even\")\n",
        "elif a%2 != 0:\n",
        "  print(\"odd\")\n",
        "else:\n",
        "  print('Enter valid number!')"
      ]
    },
    {
      "cell_type": "code",
      "execution_count": 9,
      "metadata": {
        "colab": {
          "base_uri": "https://localhost:8080/"
        },
        "id": "E0DV7lfq4dQV",
        "outputId": "8ccaf3c7-3f62-438b-9c04-a0ed73fae82d"
      },
      "outputs": [
        {
          "name": "stdout",
          "output_type": "stream",
          "text": [
            "F\n"
          ]
        }
      ],
      "source": [
        "mark = int(input(\"Enter integer number: \"))\n",
        "if (mark<=100 and mark>81):\n",
        "  print(\"A+\")\n",
        "elif (mark<=80 and mark>=71):\n",
        "  print(\"A\")\n",
        "elif (mark<=70 and mark>=61):\n",
        "  print(\"A-\")\n",
        "elif (mark<=60 and mark>=51):\n",
        "  print(\"B\")\n",
        "elif (mark<=50 and mark>=41):\n",
        "  print(\"B-\")\n",
        "elif (mark < 40 and mark >= 0):\n",
        "  print(\"F\")\n",
        "else:\n",
        "  print('invalid mark...')"
      ]
    },
    {
      "cell_type": "code",
      "execution_count": null,
      "metadata": {
        "id": "M7kVyfl95yYA"
      },
      "outputs": [],
      "source": []
    }
  ],
  "metadata": {
    "colab": {
      "cell_execution_strategy": "setup",
      "provenance": []
    },
    "kernelspec": {
      "display_name": "Python 3",
      "name": "python3"
    },
    "language_info": {
      "codemirror_mode": {
        "name": "ipython",
        "version": 3
      },
      "file_extension": ".py",
      "mimetype": "text/x-python",
      "name": "python",
      "nbconvert_exporter": "python",
      "pygments_lexer": "ipython3",
      "version": "3.10.8"
    }
  },
  "nbformat": 4,
  "nbformat_minor": 0
}
