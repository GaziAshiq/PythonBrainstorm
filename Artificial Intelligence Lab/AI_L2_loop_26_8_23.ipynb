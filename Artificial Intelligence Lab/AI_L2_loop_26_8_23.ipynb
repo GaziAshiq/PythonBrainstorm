{
 "cells": [
  {
   "cell_type": "code",
   "execution_count": 5,
   "metadata": {},
   "outputs": [
    {
     "data": {
      "text/plain": [
       "345"
      ]
     },
     "execution_count": 5,
     "metadata": {},
     "output_type": "execute_result"
    }
   ],
   "source": [
    "x = int(input())\n",
    "x"
   ]
  },
  {
   "cell_type": "code",
   "execution_count": 6,
   "metadata": {},
   "outputs": [
    {
     "data": {
      "text/plain": [
       "345"
      ]
     },
     "execution_count": 6,
     "metadata": {},
     "output_type": "execute_result"
    }
   ],
   "source": [
    "x"
   ]
  },
  {
   "cell_type": "code",
   "execution_count": 7,
   "metadata": {},
   "outputs": [
    {
     "data": {
      "text/plain": [
       "int"
      ]
     },
     "execution_count": 7,
     "metadata": {},
     "output_type": "execute_result"
    }
   ],
   "source": [
    "type(x)"
   ]
  },
  {
   "cell_type": "code",
   "execution_count": 13,
   "metadata": {},
   "outputs": [
    {
     "name": "stdout",
     "output_type": "stream",
     "text": [
      "output 8 sq.unit\n",
      "hello 8 world 4\n"
     ]
    }
   ],
   "source": [
    "l = int(input(\"enter length: \"))\n",
    "w = int(input(\"enter width: \"))\n",
    "a = l * w\n",
    "print(f'output {a} sq.unit')\n",
    "\n",
    "print(f'hello {a} world {w}')"
   ]
  },
  {
   "cell_type": "code",
   "execution_count": 16,
   "metadata": {},
   "outputs": [
    {
     "name": "stdout",
     "output_type": "stream",
     "text": [
      "0 is zero\n"
     ]
    }
   ],
   "source": [
    "num = int(input(\"Enter a number: \"))\n",
    "if num > 0:\n",
    "    print(f\"{num} is positive number\")\n",
    "elif num == 0:\n",
    "    print(f\"{num} is zero\")\n",
    "else:\n",
    "    print(f\"{num} is negative number\")"
   ]
  },
  {
   "cell_type": "code",
   "execution_count": 14,
   "metadata": {},
   "outputs": [
    {
     "name": "stdout",
     "output_type": "stream",
     "text": [
      "3\n",
      "6\n",
      "9\n",
      "12\n",
      "15\n",
      "18\n",
      "21\n",
      "24\n",
      "27\n",
      "30\n"
     ]
    }
   ],
   "source": [
    "for i in range(3,31,3):\n",
    "    print(i)"
   ]
  },
  {
   "cell_type": "code",
   "execution_count": 20,
   "metadata": {},
   "outputs": [
    {
     "name": "stdout",
     "output_type": "stream",
     "text": [
      "1 x 15 = 15\n",
      "2 x 15 = 30\n",
      "3 x 15 = 45\n",
      "4 x 15 = 60\n",
      "5 x 15 = 75\n",
      "6 x 15 = 90\n",
      "7 x 15 = 105\n",
      "8 x 15 = 120\n",
      "9 x 15 = 135\n",
      "10 x 15 = 150\n"
     ]
    }
   ],
   "source": [
    "n = int(input('Enter a number for namta: '))\n",
    "for i in range(1, 11):\n",
    "    print(f'{i} x {n} = {i*n}')"
   ]
  },
  {
   "cell_type": "code",
   "execution_count": 30,
   "metadata": {},
   "outputs": [
    {
     "name": "stdout",
     "output_type": "stream",
     "text": [
      "1\n",
      "1 2 3 4 \n",
      "2\n",
      "1 2 3 4 \n",
      "3\n",
      "1 2 3 4 \n",
      "4\n",
      "1 2 3 4 \n"
     ]
    }
   ],
   "source": [
    "n = int(input('Enter a number: '))\n",
    "for i in range(1, n):\n",
    "    print(i)\n",
    "\n",
    "    for _ in range(1,n):\n",
    "        print(_, end=' ')\n",
    "    print()"
   ]
  },
  {
   "cell_type": "code",
   "execution_count": null,
   "metadata": {},
   "outputs": [],
   "source": []
  }
 ],
 "metadata": {
  "kernelspec": {
   "display_name": "Python 3",
   "language": "python",
   "name": "python3"
  },
  "language_info": {
   "codemirror_mode": {
    "name": "ipython",
    "version": 3
   },
   "file_extension": ".py",
   "mimetype": "text/x-python",
   "name": "python",
   "nbconvert_exporter": "python",
   "pygments_lexer": "ipython3",
   "version": "3.10.8"
  },
  "orig_nbformat": 4
 },
 "nbformat": 4,
 "nbformat_minor": 2
}
