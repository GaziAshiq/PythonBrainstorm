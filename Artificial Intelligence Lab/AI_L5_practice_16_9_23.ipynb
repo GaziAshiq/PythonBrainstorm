{
 "cells": [
  {
   "cell_type": "code",
   "execution_count": 1,
   "id": "3a0aa8aa",
   "metadata": {},
   "outputs": [
    {
     "name": "stdout",
     "output_type": "stream",
     "text": [
      "40\n"
     ]
    }
   ],
   "source": [
    "li = [10, 20 ,10]\n",
    "sum = 0\n",
    "for i in li:\n",
    "    sum += i\n",
    "    \n",
    "print(sum)"
   ]
  },
  {
   "cell_type": "code",
   "execution_count": null,
   "outputs": [],
   "source": [],
   "metadata": {
    "collapsed": false
   }
  },
  {
   "cell_type": "code",
   "execution_count": 2,
   "id": "3eb9edc8",
   "metadata": {},
   "outputs": [
    {
     "name": "stdout",
     "output_type": "stream",
     "text": [
      "A: 3, B: 2, C:1\n"
     ]
    }
   ],
   "source": [
    "li = ['A', 'A', 'B', 'C', 'A', 'B']\n",
    "A, B, C = 0, 0, 0\n",
    "\n",
    "for i in li:\n",
    "    if i == 'A':\n",
    "        A += 1\n",
    "    elif i == 'B':\n",
    "        B += 1\n",
    "    elif i == 'C':\n",
    "        C += 1\n",
    "    else:\n",
    "        print('error')\n",
    "        \n",
    "\n",
    "print(\"A: {}, B: {}, C:{}\".format(A,B,C))"
   ]
  },
  {
   "cell_type": "code",
   "execution_count": 3,
   "id": "e394104d",
   "metadata": {},
   "outputs": [
    {
     "name": "stdout",
     "output_type": "stream",
     "text": [
      "A: 3, B: 2, C:1\n"
     ]
    }
   ],
   "source": [
    "li = ['A', 'A', 'B', 'C', 'A', 'B']\n",
    "A = li.count('A')\n",
    "B = li.count('B') \n",
    "C = li.count('C') \n",
    "\n",
    "print(\"A: {}, B: {}, C:{}\".format(A,B,C))"
   ]
  },
  {
   "cell_type": "code",
   "execution_count": 4,
   "id": "05172b7f",
   "metadata": {},
   "outputs": [],
   "source": [
    "import pandas as pd\n",
    "\n",
    "\n",
    "info = {\n",
    "    \"Student Name\": ['AA', 'BB', 'CC', 'DD'],\n",
    "    \"CSE412\": ['A','A+','A-', 'B'], \n",
    "    \"CSE425\": [3.75, 4, 2.50, 3.5],\n",
    "    \"CSE436\": ['B', 'B+','C', 'A']\n",
    "}\n",
    "# print(info)\n",
    "\n",
    "df = pd.DataFrame(info)\n",
    "df.to_csv(\"demo.csv\",index=False)"
   ]
  },
  {
   "cell_type": "code",
   "execution_count": 1,
   "outputs": [],
   "source": [
    "new_dict = {\n",
    "    \"name\": ['Gazi', 'Ashiq'],\n",
    "    \"address\": ['Laksham', 'Cumilla']\n",
    "}"
   ],
   "metadata": {
    "collapsed": false,
    "ExecuteTime": {
     "end_time": "2023-09-16T18:24:56.420111006Z",
     "start_time": "2023-09-16T18:24:56.360726444Z"
    }
   }
  },
  {
   "cell_type": "code",
   "execution_count": null,
   "outputs": [],
   "source": [],
   "metadata": {
    "collapsed": false
   }
  }
 ],
 "metadata": {
  "kernelspec": {
   "display_name": "Python 3",
   "language": "python",
   "name": "python3"
  },
  "language_info": {
   "codemirror_mode": {
    "name": "ipython",
    "version": 3
   },
   "file_extension": ".py",
   "mimetype": "text/x-python",
   "name": "python",
   "nbconvert_exporter": "python",
   "pygments_lexer": "ipython3",
   "version": "3.10.8"
  }
 },
 "nbformat": 4,
 "nbformat_minor": 5
}
